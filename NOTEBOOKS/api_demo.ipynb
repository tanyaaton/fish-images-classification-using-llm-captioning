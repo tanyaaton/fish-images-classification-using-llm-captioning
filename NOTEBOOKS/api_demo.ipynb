{
 "cells": [
  {
   "cell_type": "markdown",
   "id": "09d555e6",
   "metadata": {},
   "source": [
    "# Fish Image Classification API Demo\n",
    "This notebook demonstrates how to use the available endpoints for fish image classification and related services."
   ]
  },
  {
   "cell_type": "markdown",
   "id": "83d05ae0",
   "metadata": {},
   "source": [
    "## Setup\n",
    "Import required libraries and set the base URL for the API."
   ]
  },
  {
   "cell_type": "code",
   "execution_count": 1,
   "id": "deea03f3",
   "metadata": {},
   "outputs": [
    {
     "ename": "ModuleNotFoundError",
     "evalue": "No module named 'requests'",
     "output_type": "error",
     "traceback": [
      "\u001b[31m---------------------------------------------------------------------------\u001b[39m",
      "\u001b[31mModuleNotFoundError\u001b[39m                       Traceback (most recent call last)",
      "\u001b[36mCell\u001b[39m\u001b[36m \u001b[39m\u001b[32mIn[1]\u001b[39m\u001b[32m, line 1\u001b[39m\n\u001b[32m----> \u001b[39m\u001b[32m1\u001b[39m \u001b[38;5;28;01mimport\u001b[39;00m\u001b[38;5;250m \u001b[39m\u001b[34;01mrequests\u001b[39;00m\n\u001b[32m      2\u001b[39m \u001b[38;5;28;01mimport\u001b[39;00m\u001b[38;5;250m \u001b[39m\u001b[34;01mjson\u001b[39;00m\n\u001b[32m      3\u001b[39m BASE_URL = \u001b[33m'\u001b[39m\u001b[33mhttps://fish-image-classify.1xlkl2nudnhu.us-south.codeengine.appdomain.cloud\u001b[39m\u001b[33m'\u001b[39m\n",
      "\u001b[31mModuleNotFoundError\u001b[39m: No module named 'requests'"
     ]
    }
   ],
   "source": [
    "import requests\n",
    "import json\n",
    "BASE_URL = 'https://fish-image-classify.1xlkl2nudnhu.us-south.codeengine.appdomain.cloud'"
   ]
  },
  {
   "cell_type": "markdown",
   "id": "934391f1",
   "metadata": {},
   "source": [
    "## 1. /search Endpoint\n",
    "Search for fish species by text description."
   ]
  },
  {
   "cell_type": "code",
   "execution_count": null,
   "id": "31449970",
   "metadata": {},
   "outputs": [],
   "source": [
    "search_payload = {\n",
    "    'text': (\"body: The fish has an oval-shaped body with a rounded head and a relatively small size, approximately 3-5 inches in length. \",\n",
    "             'colors: It features vibrant orange coloration with white stripes and black outlines, creating a striking pattern. \",\n",
    "             'features: The fish has large dorsal and anal fins, with a distinctive rounded tail fin and small scales. \",\n",
    "             'unique_marks: A prominent black stripe runs across the eyes, and the fish has a small mouth with a pointed snout.'\n",
    "    )\n",
    "}\n",
    "response = requests.post(f'{BASE_URL}/search', json=search_payload)\n",
    "print('Status:', response.status_code)\n",
    "print('Response:', response.json())"
   ]
  },
  {
   "cell_type": "markdown",
   "id": "b7cd180f",
   "metadata": {},
   "source": [
    "## 2. /image_captioning Endpoint\n",
    "Get a caption for a fish image by providing the image key."
   ]
  },
  {
   "cell_type": "code",
   "execution_count": null,
   "id": "a146009e",
   "metadata": {},
   "outputs": [],
   "source": [
    "image_captioning_payload = {\n",
    "    'image': 'user-upload/indian-mackerel-001.png'  # Replace with your image key\n",
    "}\n",
    "response = requests.post(f'{BASE_URL}/image_captioning', json=image_captioning_payload)\n",
    "print('Status:', response.status_code)\n",
    "print('Response:', response.json())"
   ]
  },
  {
   "cell_type": "markdown",
   "id": "91d65fd5",
   "metadata": {},
   "source": [
    "## 3. /generation Endpoint\n",
    "Generate a response about a fish species, with optional chat history."
   ]
  },
  {
   "cell_type": "code",
   "execution_count": null,
   "id": "a058774a",
   "metadata": {},
   "outputs": [],
   "source": [
    "generation_payload = {\n",
    "    'question': 'What does Lion fish look like?',\n",
    "    'chat_history': [\n",
    "        {'role': 'user', 'content': 'Can you tell me about clownfish?'},\n",
    "        {'role': 'assistant', 'content': 'Clownfish are known for their symbiosis with sea anemones.'},\n",
    "        {'role': 'user', 'content': 'What about Clarks anemonefish?'},\n",
    "        {'role': 'assistant', 'content': 'Clarks anemonefish is a clownfish with distinctive white stripes and various color morphs. It lives in symbiosis with sea anemones throughout the Indo-Pacific.'}\n",
    "    ]\n",
    "}\n",
    "response = requests.post(f'{BASE_URL}/generation', json=generation_payload)\n",
    "print('Status:', response.status_code)\n",
    "print('Response:', response.json())"
   ]
  }
 ],
 "metadata": {
  "kernelspec": {
   "display_name": "Python 3",
   "language": "python",
   "name": "python3"
  },
  "language_info": {
   "codemirror_mode": {
    "name": "ipython",
    "version": 3
   },
   "file_extension": ".py",
   "mimetype": "text/x-python",
   "name": "python",
   "nbconvert_exporter": "python",
   "pygments_lexer": "ipython3",
   "version": "3.11.9"
  }
 },
 "nbformat": 4,
 "nbformat_minor": 5
}
